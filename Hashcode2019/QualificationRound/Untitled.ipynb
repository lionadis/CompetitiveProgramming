{
 "cells": [
  {
   "cell_type": "code",
   "execution_count": 248,
   "metadata": {},
   "outputs": [],
   "source": [
    "import numpy as np"
   ]
  },
  {
   "cell_type": "code",
   "execution_count": 327,
   "metadata": {},
   "outputs": [],
   "source": [
    "class Slide:\n",
    "    \n",
    "    def __init__(self, tags, idx):\n",
    "        \n",
    "        self.idx = idx\n",
    "        self.tags = tags"
   ]
  },
  {
   "cell_type": "code",
   "execution_count": 328,
   "metadata": {},
   "outputs": [],
   "source": [
    "class HalfSlide:\n",
    "    \n",
    "    def __init__(self, tags, idx):\n",
    "\n",
    "        self.idx = idx\n",
    "        self.tags = tags"
   ]
  },
  {
   "cell_type": "code",
   "execution_count": 329,
   "metadata": {},
   "outputs": [],
   "source": [
    "def parse_input(filename):\n",
    "    \n",
    "    data = open(filename).readlines()\n",
    "    \n",
    "    N = int(data[0])\n",
    "    \n",
    "    H, V = [], []\n",
    "    \n",
    "    data.pop(0)\n",
    "    \n",
    "    for i in range(len(data)):\n",
    "        slide = data[i].split()\n",
    "        if slide[0] == 'V':\n",
    "            V.append(HalfSlide(slide[2:], i))\n",
    "        else:\n",
    "            H.append(Slide(slide[2:], i))\n",
    "    return N, H, V"
   ]
  },
  {
   "cell_type": "code",
   "execution_count": 340,
   "metadata": {},
   "outputs": [],
   "source": [
    "N, H, V = parse_input('input/e_shiny_selfies.txt')"
   ]
  },
  {
   "cell_type": "code",
   "execution_count": 341,
   "metadata": {},
   "outputs": [],
   "source": [
    "def all_slides(H, V, shuffle=True):\n",
    "    '''\n",
    "        Randomly joining vertical slides\n",
    "    '''\n",
    "    slides = H.copy()\n",
    "    random.shuffle(V)\n",
    "    for i in range(0, len(V), 2):\n",
    "        slides.append(Slide(list(set(V[i].tags + V[i + 1].tags)), [V[i].idx, V[i + 1].idx]))\n",
    "    return slides"
   ]
  },
  {
   "cell_type": "code",
   "execution_count": 342,
   "metadata": {},
   "outputs": [],
   "source": [
    "slides = all_slides(H, V)"
   ]
  },
  {
   "cell_type": "code",
   "execution_count": 333,
   "metadata": {},
   "outputs": [],
   "source": [
    "def f(s1, s2):\n",
    "    \n",
    "    return min(len(set(s1.tags) - set(s2.tags)), len(set(s2.tags) - set(s1.tags)), len(set(s1.tags) & set(s2.tags)))"
   ]
  },
  {
   "cell_type": "code",
   "execution_count": 334,
   "metadata": {},
   "outputs": [],
   "source": [
    "def score(slides):\n",
    "    \n",
    "    s = 0\n",
    "    for i in range(0, len(slides) - 1):\n",
    "        s += f(slides[i], slides[i + 1])\n",
    "    return s"
   ]
  },
  {
   "cell_type": "code",
   "execution_count": 335,
   "metadata": {},
   "outputs": [],
   "source": [
    "def output(slides, filename):\n",
    "    f = open(filename, 'w+')\n",
    "    print(len(slides), file=f)\n",
    "    all_idx = []\n",
    "    for s in slides:\n",
    "        if isinstance(s.idx, list):\n",
    "            print(s.idx[0], s.idx[1], file=f)\n",
    "            all_idx.extend(s.idx)\n",
    "        else:\n",
    "            print(s.idx, file=f)\n",
    "            all_idx.append(s.idx)"
   ]
  },
  {
   "cell_type": "code",
   "execution_count": 336,
   "metadata": {},
   "outputs": [],
   "source": [
    "def greedy_1(_slides, start_idx):\n",
    "    '''\n",
    "        append the slides which leads to the maximum score\n",
    "    '''\n",
    "    slides = _slides.copy()\n",
    "    ans = [slides[start_idx]]\n",
    "    slides.pop(start_idx)\n",
    "    print(\"Starting at idx\", start_idx)\n",
    "    while len(ans) < len(_slides):\n",
    "        best_score, best_idx = -1, -1\n",
    "        for i in range(len(slides)):\n",
    "            _score =  f(ans[-1], slides[i])\n",
    "            if best_score < _score:\n",
    "                best_score = _score\n",
    "                best_idx = i\n",
    "        if best_score == 0:\n",
    "            ans.extend(slides)\n",
    "        else:\n",
    "            ans.append(slides[best_idx])\n",
    "            slides.pop(best_idx)\n",
    "        print(best_score)\n",
    "    print(\"Total score: %d\"%(score(ans)))\n",
    "    return ans, score"
   ]
  },
  {
   "cell_type": "code",
   "execution_count": 346,
   "metadata": {},
   "outputs": [],
   "source": [
    "output(ans, 'e_output.txt')"
   ]
  },
  {
   "cell_type": "code",
   "execution_count": 347,
   "metadata": {},
   "outputs": [],
   "source": [
    "def greedy_2(_slides, start_idx=0, iterations = 2000):\n",
    "    '''\n",
    "        find the best by randomly choosing index for certain iterations\n",
    "    '''\n",
    "    slides = _slides.copy()\n",
    "    ans = [slides[start_idx]]\n",
    "    slides.pop(start_idx)\n",
    "    print(\"Starting at idx\", start_idx)\n",
    "    idx = 0\n",
    "    while len(ans) < len(_slides):\n",
    "        best_score, best_idx = -1, -1\n",
    "        for _ in range(iterations):\n",
    "            i = random.randint(0, len(slides) - 1)\n",
    "            _score =  f(ans[-1], slides[i])\n",
    "            if best_score < _score:\n",
    "                best_score = _score\n",
    "                best_idx = i\n",
    "        if best_score == 0:\n",
    "            ans.extend(slides)\n",
    "        else:\n",
    "            ans.append(slides[best_idx])\n",
    "            slides.pop(best_idx)\n",
    "        if idx % 6000 == 0:\n",
    "            print(idx * 100 / 60000, \"%\")\n",
    "        idx += 1\n",
    "    print(\"Total score: %d\"%(score(ans)))\n",
    "    return ans, score"
   ]
  },
  {
   "cell_type": "code",
   "execution_count": 348,
   "metadata": {},
   "outputs": [
    {
     "data": {
      "text/plain": [
       "40000"
      ]
     },
     "execution_count": 348,
     "metadata": {},
     "output_type": "execute_result"
    }
   ],
   "source": [
    "len(slides)"
   ]
  },
  {
   "cell_type": "code",
   "execution_count": 349,
   "metadata": {},
   "outputs": [
    {
     "name": "stdout",
     "output_type": "stream",
     "text": [
      "Starting at idx 37921\n",
      "0.0 %\n",
      "10.0 %\n",
      "20.0 %\n",
      "30.0 %\n",
      "40.0 %\n",
      "50.0 %\n",
      "60.0 %\n"
     ]
    },
    {
     "ename": "KeyboardInterrupt",
     "evalue": "",
     "output_type": "error",
     "traceback": [
      "\u001b[0;31m---------------------------------------------------------------------------\u001b[0m",
      "\u001b[0;31mKeyboardInterrupt\u001b[0m                         Traceback (most recent call last)",
      "\u001b[0;32m<ipython-input-349-92272b28c68b>\u001b[0m in \u001b[0;36m<module>\u001b[0;34m\u001b[0m\n\u001b[0;32m----> 1\u001b[0;31m \u001b[0mans\u001b[0m\u001b[0;34m,\u001b[0m \u001b[0mscore\u001b[0m \u001b[0;34m=\u001b[0m \u001b[0mgreedy_2\u001b[0m\u001b[0;34m(\u001b[0m\u001b[0mslides\u001b[0m\u001b[0;34m,\u001b[0m \u001b[0mrandom\u001b[0m\u001b[0;34m.\u001b[0m\u001b[0mrandint\u001b[0m\u001b[0;34m(\u001b[0m\u001b[0;36m0\u001b[0m\u001b[0;34m,\u001b[0m \u001b[0mlen\u001b[0m\u001b[0;34m(\u001b[0m\u001b[0mslides\u001b[0m\u001b[0;34m)\u001b[0m \u001b[0;34m-\u001b[0m \u001b[0;36m1\u001b[0m\u001b[0;34m)\u001b[0m\u001b[0;34m)\u001b[0m\u001b[0;34m\u001b[0m\u001b[0;34m\u001b[0m\u001b[0m\n\u001b[0m",
      "\u001b[0;32m<ipython-input-347-a4425332424e>\u001b[0m in \u001b[0;36mgreedy_2\u001b[0;34m(_slides, start_idx, iterations)\u001b[0m\n\u001b[1;32m     12\u001b[0m         \u001b[0;32mfor\u001b[0m \u001b[0m_\u001b[0m \u001b[0;32min\u001b[0m \u001b[0mrange\u001b[0m\u001b[0;34m(\u001b[0m\u001b[0miterations\u001b[0m\u001b[0;34m)\u001b[0m\u001b[0;34m:\u001b[0m\u001b[0;34m\u001b[0m\u001b[0;34m\u001b[0m\u001b[0m\n\u001b[1;32m     13\u001b[0m             \u001b[0mi\u001b[0m \u001b[0;34m=\u001b[0m \u001b[0mrandom\u001b[0m\u001b[0;34m.\u001b[0m\u001b[0mrandint\u001b[0m\u001b[0;34m(\u001b[0m\u001b[0;36m0\u001b[0m\u001b[0;34m,\u001b[0m \u001b[0mlen\u001b[0m\u001b[0;34m(\u001b[0m\u001b[0mslides\u001b[0m\u001b[0;34m)\u001b[0m \u001b[0;34m-\u001b[0m \u001b[0;36m1\u001b[0m\u001b[0;34m)\u001b[0m\u001b[0;34m\u001b[0m\u001b[0;34m\u001b[0m\u001b[0m\n\u001b[0;32m---> 14\u001b[0;31m             \u001b[0m_score\u001b[0m \u001b[0;34m=\u001b[0m  \u001b[0mf\u001b[0m\u001b[0;34m(\u001b[0m\u001b[0mans\u001b[0m\u001b[0;34m[\u001b[0m\u001b[0;34m-\u001b[0m\u001b[0;36m1\u001b[0m\u001b[0;34m]\u001b[0m\u001b[0;34m,\u001b[0m \u001b[0mslides\u001b[0m\u001b[0;34m[\u001b[0m\u001b[0mi\u001b[0m\u001b[0;34m]\u001b[0m\u001b[0;34m)\u001b[0m\u001b[0;34m\u001b[0m\u001b[0;34m\u001b[0m\u001b[0m\n\u001b[0m\u001b[1;32m     15\u001b[0m             \u001b[0;32mif\u001b[0m \u001b[0mbest_score\u001b[0m \u001b[0;34m<\u001b[0m \u001b[0m_score\u001b[0m\u001b[0;34m:\u001b[0m\u001b[0;34m\u001b[0m\u001b[0;34m\u001b[0m\u001b[0m\n\u001b[1;32m     16\u001b[0m                 \u001b[0mbest_score\u001b[0m \u001b[0;34m=\u001b[0m \u001b[0m_score\u001b[0m\u001b[0;34m\u001b[0m\u001b[0;34m\u001b[0m\u001b[0m\n",
      "\u001b[0;32m<ipython-input-333-ced8df1016bc>\u001b[0m in \u001b[0;36mf\u001b[0;34m(s1, s2)\u001b[0m\n\u001b[1;32m      1\u001b[0m \u001b[0;32mdef\u001b[0m \u001b[0mf\u001b[0m\u001b[0;34m(\u001b[0m\u001b[0ms1\u001b[0m\u001b[0;34m,\u001b[0m \u001b[0ms2\u001b[0m\u001b[0;34m)\u001b[0m\u001b[0;34m:\u001b[0m\u001b[0;34m\u001b[0m\u001b[0;34m\u001b[0m\u001b[0m\n\u001b[1;32m      2\u001b[0m \u001b[0;34m\u001b[0m\u001b[0m\n\u001b[0;32m----> 3\u001b[0;31m     \u001b[0;32mreturn\u001b[0m \u001b[0mmin\u001b[0m\u001b[0;34m(\u001b[0m\u001b[0mlen\u001b[0m\u001b[0;34m(\u001b[0m\u001b[0mset\u001b[0m\u001b[0;34m(\u001b[0m\u001b[0ms1\u001b[0m\u001b[0;34m.\u001b[0m\u001b[0mtags\u001b[0m\u001b[0;34m)\u001b[0m \u001b[0;34m-\u001b[0m \u001b[0mset\u001b[0m\u001b[0;34m(\u001b[0m\u001b[0ms2\u001b[0m\u001b[0;34m.\u001b[0m\u001b[0mtags\u001b[0m\u001b[0;34m)\u001b[0m\u001b[0;34m)\u001b[0m\u001b[0;34m,\u001b[0m \u001b[0mlen\u001b[0m\u001b[0;34m(\u001b[0m\u001b[0mset\u001b[0m\u001b[0;34m(\u001b[0m\u001b[0ms2\u001b[0m\u001b[0;34m.\u001b[0m\u001b[0mtags\u001b[0m\u001b[0;34m)\u001b[0m \u001b[0;34m-\u001b[0m \u001b[0mset\u001b[0m\u001b[0;34m(\u001b[0m\u001b[0ms1\u001b[0m\u001b[0;34m.\u001b[0m\u001b[0mtags\u001b[0m\u001b[0;34m)\u001b[0m\u001b[0;34m)\u001b[0m\u001b[0;34m,\u001b[0m \u001b[0mlen\u001b[0m\u001b[0;34m(\u001b[0m\u001b[0mset\u001b[0m\u001b[0;34m(\u001b[0m\u001b[0ms1\u001b[0m\u001b[0;34m.\u001b[0m\u001b[0mtags\u001b[0m\u001b[0;34m)\u001b[0m \u001b[0;34m&\u001b[0m \u001b[0mset\u001b[0m\u001b[0;34m(\u001b[0m\u001b[0ms2\u001b[0m\u001b[0;34m.\u001b[0m\u001b[0mtags\u001b[0m\u001b[0;34m)\u001b[0m\u001b[0;34m)\u001b[0m\u001b[0;34m)\u001b[0m\u001b[0;34m\u001b[0m\u001b[0;34m\u001b[0m\u001b[0m\n\u001b[0m",
      "\u001b[0;31mKeyboardInterrupt\u001b[0m: "
     ]
    }
   ],
   "source": [
    "ans, score = greedy_2(slides, random.randint(0, len(slides) - 1))"
   ]
  },
  {
   "cell_type": "code",
   "execution_count": null,
   "metadata": {},
   "outputs": [],
   "source": []
  }
 ],
 "metadata": {
  "kernelspec": {
   "display_name": "Python 3",
   "language": "python",
   "name": "python3"
  },
  "language_info": {
   "codemirror_mode": {
    "name": "ipython",
    "version": 3
   },
   "file_extension": ".py",
   "mimetype": "text/x-python",
   "name": "python",
   "nbconvert_exporter": "python",
   "pygments_lexer": "ipython3",
   "version": "3.6.7"
  }
 },
 "nbformat": 4,
 "nbformat_minor": 2
}
